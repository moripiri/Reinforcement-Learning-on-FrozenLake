{
 "cells": [
  {
   "cell_type": "markdown",
   "id": "cac37d9c",
   "metadata": {},
   "source": [
    "## Chapter 6: Eligibility Traces"
   ]
  },
  {
   "cell_type": "code",
   "execution_count": null,
   "id": "1f9105c7",
   "metadata": {},
   "outputs": [],
   "source": []
  }
 ],
 "metadata": {
  "kernelspec": {
   "display_name": "rl",
   "language": "python",
   "name": "rl"
  },
  "language_info": {
   "codemirror_mode": {
    "name": "ipython",
    "version": 3
   },
   "file_extension": ".py",
   "mimetype": "text/x-python",
   "name": "python",
   "nbconvert_exporter": "python",
   "pygments_lexer": "ipython3",
   "version": "3.6.13"
  }
 },
 "nbformat": 4,
 "nbformat_minor": 5
}
