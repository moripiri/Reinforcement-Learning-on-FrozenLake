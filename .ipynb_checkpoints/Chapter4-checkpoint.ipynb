{
 "cells": [
  {
   "cell_type": "markdown",
   "id": "da7fe698",
   "metadata": {},
   "source": [
    "## Chapter 4: Model-Free Prediction\n"
   ]
  },
  {
   "cell_type": "markdown",
   "id": "c487832a",
   "metadata": {},
   "source": [
    "Compared to **Dynamics Programming**, **Model-free prediction** algorithms aim to estimate the value function of a certain policy *without knowing the MDP*. Mainly, **Monte-Carlo Prediction** and **Temporal-Difference learning (TD-learning)** are known as a model-free prediction algorithms. "
   ]
  },
  {
   "cell_type": "markdown",
   "id": "966641ff",
   "metadata": {},
   "source": [
    "### Monte-Carlo Prediction\n",
    "\n",
    "**Monte-Carlo (MC)** is a "
   ]
  },
  {
   "cell_type": "markdown",
   "id": "35c5e998",
   "metadata": {},
   "source": [
    "### Temporal-Difference Learning\n",
    "\n",
    "**Temporal-Difference (TD)** learning is a "
   ]
  },
  {
   "cell_type": "code",
   "execution_count": null,
   "id": "0145a7cf",
   "metadata": {},
   "outputs": [],
   "source": []
  }
 ],
 "metadata": {
  "kernelspec": {
   "display_name": "rl",
   "language": "python",
   "name": "rl"
  },
  "language_info": {
   "codemirror_mode": {
    "name": "ipython",
    "version": 3
   },
   "file_extension": ".py",
   "mimetype": "text/x-python",
   "name": "python",
   "nbconvert_exporter": "python",
   "pygments_lexer": "ipython3",
   "version": "3.6.13"
  }
 },
 "nbformat": 4,
 "nbformat_minor": 5
}
