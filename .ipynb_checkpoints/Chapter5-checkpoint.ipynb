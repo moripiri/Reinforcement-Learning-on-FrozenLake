{
 "cells": [
  {
   "cell_type": "markdown",
   "id": "0996ec21",
   "metadata": {},
   "source": [
    "## Chapter 5: Model-Free Control"
   ]
  },
  {
   "cell_type": "markdown",
   "id": "ff26565e",
   "metadata": {},
   "source": [
    "From the value function of unknown MDP estimated by model-free prediction algorithms, we can approximate optimal policies for the MDP. \n",
    "\n",
    "Model-free control algorithms can be divided into two groups: on-policy control and off-policy control.\n",
    "\n",
    "- **On-policy control**: Learn about policy $\\pi$ from experience sampled from $\\pi$\n",
    "\n",
    "- **Off-policy control**: Learn about policy from $\\pi$ from experience sampled from policy $\\mu \\neq \\pi$ \n",
    "\n",
    "Both type of control algorithms are widely utilized in RL."
   ]
  },
  {
   "cell_type": "markdown",
   "id": "72b20992",
   "metadata": {},
   "source": [
    "### On-policy Monte-Carlo Control\n",
    "\n",
    "The overall idea of model-free control is to proceed the same pattern as the  **Generalized Policy Iteration** -> iteration of policy evaluation and policy improvement. \n",
    "\n",
    "For policy evaluation algorithm, Monte-Carlo policy evaluation can be used, and for policy improvement algorithm, **greedy policy improvement** can be used.\n",
    "\n",
    "</br>\n",
    "</br>\n",
    "<font size=\"3\">\n",
    "$$\\begin{align}\n",
    "Q(S_t, A_t) = Q(S_t, A_t) + \\alpha(G_t - Q(S_t, A_t))\n",
    "\\end{align}$$\n",
    "</font>\n",
    "\n",
    "</br>\n",
    "</br>\n",
    "<font size=\"4\">\n",
    "$$\\begin{align}\n",
    "\\pi'(s) = \\text{argmax}_{a \\in \\mathcal{A}} Q(s, a)\n",
    "\\end{align}$$\n",
    "</font>\n",
    "\n",
    "To make monte-carlo control model-free, action-value function $Q(s, a)$ has to be used. \n",
    "\n",
    "#### $\\epsilon$-greedy policy improvement\n",
    "\n",
    "Policy improvement theorem (Chapter 3) guarantees greedy policy improvement assures improved policy $\\pi'$ is better or as good as the policy $\\pi$. However, it does not guarantee the convergence of $\\pi'$ to optimal policy due to lack of exploration. To ensure continual exploration, $\\epsilon$-greedy exploration can be considered.\n",
    "</br>\n",
    "</br>\n",
    "<font size=\"4\">\n",
    "$$ \\pi(a|s)=\\begin{cases}\n",
    "    \\frac{\\epsilon}{m} + 1-\\epsilon, & \\text{if $\\alpha^*=\\text{argmax}_{a \\in \\mathcal{A}}Q(s,a)$}.\\\\\n",
    "    \\frac{\\epsilon}{m}, & \\text{otherwise}.\n",
    "  \\end{cases}$$\n",
    "</font>\n",
    "\n",
    "For any $\\epsilon$-greedy policy $\\pi$, the $\\epsilon$-greedy policy $\\pi'$ with respect to $q_\\pi$ is an improvement: $v_{\\pi'}(s) \\geq v_\\pi(s)$.\n",
    "\n",
    "#### Greedy in the Limit with Infinite Exploration (GLIE)\n",
    "\n",
    "However, if all state-action pairs are explored infinitely many times, exploration is not required. Thus **GLIE** suggests $\\epsilon$-greedy policy $\\pi_k$ that converges on a greedy policy as $k \\rightarrow \\infty$. \n",
    "\n",
    "For example, in Monte-Carlo Control, $\\epsilon$ can be $\\frac{1}{k}$ where $k$ is number of the episodes sampled for monte-carlo prediction.\n"
   ]
  },
  {
   "cell_type": "markdown",
   "id": "d948c26a",
   "metadata": {},
   "source": [
    "### Off-policy Monte-Carlo Control\n",
    "\n",
    "Off-policy Monte-Carlo Control estimates the policy $\\pi$'s state-action values from trajectories sampled from different policy $\\mu$ by using importance sampling. \n",
    "\n",
    "#### Importance Sampling\n",
    "\n",
    "Importance sampling "
   ]
  },
  {
   "attachments": {
    "sarsa.png": {
     "image/png": "[encoded data removed]"
    }
   },
   "cell_type": "markdown",
   "id": "7d0c8d53",
   "metadata": {},
   "source": [
    "### On-policy Temporal-Difference Control \n",
    "\n",
    "As **Temporal-Difference (TD)** can be used for model-free prediction, it can be used for model-free control.\n",
    "\n",
    "\n",
    "TD methods are only used for model evaluation or prediction part as it follows the pattern of **Generalized Policy Iteration (GPI)**. For policy improvement part, $\\epsilon$-greedy policy or GLIE can be used.\n",
    "\n",
    "For on-policy TD Control, **SARSA** algorithm is widely known.\n",
    "\n",
    "#### SARSA\n",
    "\n",
    "**SARSA** is an on-policy temporal-difference control algorithm that updates state-action values (Q-values) by quintuple of events: $(S_t, A_t, R_{t+1}, S_{t+1}, A_{t+1})$.\n",
    "\n",
    "![sarsa.png](attachment:sarsa.png)\n",
    "\n",
    "SARSA updates state-action values from $(S_t, A_t, R_{t+1}, S_{t+1}, A_{t+1})$ that sampled from **current policy $\\pi$**.\n",
    "\n",
    "</br>\n",
    "</br>\n",
    "<font size=\"4\">\n",
    "$$ Q(S, A) \\leftarrow Q(S, A) + \\alpha [R + \\gamma Q(S', A') - Q(S, A)]$$\n",
    "</font>\n",
    "\n",
    "and update policy by $\\epsilon$-greedy or GLIE.\n",
    "\n",
    "SARSA converges to the optimal action-value function $q_*(s,a)$ under the following conditions.\n",
    "\n",
    "1. policy $\\pi_t(a|s)$ derived from GLIE\n",
    "2. Robbins-Monro sequence of step-sizes $\\alpha_t$\n",
    "</br>\n",
    "</br>\n",
    "<font size=\"3\">\n",
    "$$ \\sum^{\\infty}_{t=1} \\alpha_t = \\infty, \\sum^{\\infty}_{t=1} \\alpha_t^2 \\leq \\infty$$\n",
    "</font>\n",
    "\n",
    "\n"
   ]
  },
  {
   "attachments": {
    "q-learning.png": {
     "image/png": "[encoded data removed]"
    }
   },
   "cell_type": "markdown",
   "id": "d406cbb7",
   "metadata": {},
   "source": [
    "### Off-policy Temporal-Difference Control\n",
    "\n",
    "\n",
    "#### Q-learning\n",
    "\n",
    "Q-learning is an off-policy TD control algorithm that called as one of the most important breakthroughs in reinforcement learning. \n",
    "\n",
    "Unlike SARSA, Q-learning requires only $(S_t, A_t, R_{t+1}, S_{t+1})$ state-action values are updated as the following:\n",
    "\n",
    "</br>\n",
    "</br>\n",
    "<font size=\"4\">\n",
    "$$ Q(S, A) \\leftarrow Q(S, A) + \\alpha [R + \\gamma \\max_{a}Q(S', a) - Q(S, A)]$$\n",
    "</font>\n",
    "\n",
    "![q-learning.png](attachment:q-learning.png)\n",
    "\n",
    "What differs Q-learning from SARSA is its target value, $R+ \\gamma \\max_{a}Q(S', a)$.\n",
    "\n",
    "Target state-action values $R+ \\gamma \\max_{a}Q(S', a)$ means we choose policy in target value to be greedy with regard to $Q(s, a)$.\n",
    "\n",
    "</br>\n",
    "</br>\n",
    "<font size=\"4\">\n",
    "$$\\begin{align}\n",
    "R_{t+1} + \\gamma Q(S_{t+1}, A_{t+1}) & \\\\ = R_{t+1} + \\gamma Q(S_{t+1}, \\text{argmax}_{a'}Q(S_{t+1}, a')) \\\\ = R_{t+1} + \\text{max}_{a'}\\gamma Q(S_{t+1}, a')\n",
    "\\end{align}$$\n",
    "</font>\n",
    "\n",
    "Then policy $\\pi$ is updated by $\\epsilon$-greedy or GLIE. Q-learning is also proven to be converge to $q_*$ under the same condition that required for SARSA to converge. "
   ]
  },
  {
   "cell_type": "code",
   "execution_count": null,
   "id": "844cd895",
   "metadata": {},
   "outputs": [],
   "source": []
  }
 ],
 "metadata": {
  "kernelspec": {
   "display_name": "rl",
   "language": "python",
   "name": "rl"
  },
  "language_info": {
   "codemirror_mode": {
    "name": "ipython",
    "version": 3
   },
   "file_extension": ".py",
   "mimetype": "text/x-python",
   "name": "python",
   "nbconvert_exporter": "python",
   "pygments_lexer": "ipython3",
   "version": "3.6.13"
  }
 },
 "nbformat": 4,
 "nbformat_minor": 5
}
