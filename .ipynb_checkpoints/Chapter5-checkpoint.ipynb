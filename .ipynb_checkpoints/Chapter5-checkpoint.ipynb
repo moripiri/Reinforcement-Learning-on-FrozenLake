{
 "cells": [
  {
   "cell_type": "markdown",
   "id": "0996ec21",
   "metadata": {},
   "source": [
    "## Chapter 5: Model-Free Control"
   ]
  },
  {
   "cell_type": "markdown",
   "id": "ff26565e",
   "metadata": {},
   "source": [
    "From the value function of unknown MDP estimated by model-free prediction algorithms, we can approximate optimal policies for the MDP. \n",
    "\n",
    "Model-free control algorithms can be divided into two groups: on-policy control and off-policy control.\n",
    "\n",
    "- On-policy control : Learn \n",
    "\n",
    "- Off-policy control\n",
    "The overall idea of model-free control is to proceed the same pattern as the policy iteration -> iteration of policy evaluation and policy improvement.\n",
    "\n"
   ]
  },
  {
   "cell_type": "code",
   "execution_count": null,
   "id": "2798a412",
   "metadata": {},
   "outputs": [],
   "source": []
  }
 ],
 "metadata": {
  "kernelspec": {
   "display_name": "rl",
   "language": "python",
   "name": "rl"
  },
  "language_info": {
   "codemirror_mode": {
    "name": "ipython",
    "version": 3
   },
   "file_extension": ".py",
   "mimetype": "text/x-python",
   "name": "python",
   "nbconvert_exporter": "python",
   "pygments_lexer": "ipython3",
   "version": "3.6.13"
  }
 },
 "nbformat": 4,
 "nbformat_minor": 5
}
