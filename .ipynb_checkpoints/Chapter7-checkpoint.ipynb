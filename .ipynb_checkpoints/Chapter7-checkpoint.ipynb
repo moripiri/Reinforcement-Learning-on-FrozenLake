{
 "cells": [
  {
   "cell_type": "markdown",
   "id": "dd01f3fd",
   "metadata": {},
   "source": [
    "## Chapter 7: Function Approximation and Policy Gradients"
   ]
  }
 ],
 "metadata": {
  "kernelspec": {
   "display_name": "Python [conda env:rl] *",
   "language": "python",
   "name": "conda-env-rl-py"
  },
  "language_info": {
   "codemirror_mode": {
    "name": "ipython",
    "version": 3
   },
   "file_extension": ".py",
   "mimetype": "text/x-python",
   "name": "python",
   "nbconvert_exporter": "python",
   "pygments_lexer": "ipython3",
   "version": "3.10.8"
  }
 },
 "nbformat": 4,
 "nbformat_minor": 5
}
